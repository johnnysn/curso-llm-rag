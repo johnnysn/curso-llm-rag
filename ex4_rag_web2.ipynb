{
 "cells": [
  {
   "cell_type": "code",
   "execution_count": 1,
   "metadata": {},
   "outputs": [
    {
     "name": "stderr",
     "output_type": "stream",
     "text": [
      "USER_AGENT environment variable not set, consider setting it to identify your requests.\n"
     ]
    }
   ],
   "source": [
    "from langchain_core.prompts.chat import ChatPromptTemplate\n",
    "from langchain_ollama.chat_models import ChatOllama\n",
    "from langchain_core.output_parsers import StrOutputParser\n",
    "from langchain_community.document_loaders import WebBaseLoader\n",
    "from langchain.text_splitter import RecursiveCharacterTextSplitter\n",
    "from langchain_community.vectorstores import Chroma\n",
    "from langchain_ollama.embeddings import OllamaEmbeddings\n",
    "from langchain_core.runnables import RunnablePassthrough"
   ]
  },
  {
   "cell_type": "code",
   "execution_count": 2,
   "metadata": {},
   "outputs": [
    {
     "name": "stdout",
     "output_type": "stream",
     "text": [
      "Número de chunks: 179\n"
     ]
    }
   ],
   "source": [
    "loader = WebBaseLoader(\"https://en.wikipedia.org/wiki/Jon_Jones\")\n",
    "docs = loader.load()\n",
    "\n",
    "text_splitter = RecursiveCharacterTextSplitter(chunk_size=1000, chunk_overlap=200)\n",
    "chunks = text_splitter.split_documents(docs)\n",
    "print(f\"Número de chunks: {len(chunks)}\")"
   ]
  },
  {
   "cell_type": "code",
   "execution_count": 3,
   "metadata": {},
   "outputs": [],
   "source": [
    "# Modelos\n",
    "embeddings = OllamaEmbeddings(model=\"nomic-embed-text\")\n",
    "llm = ChatOllama(model=\"llama3.2\", temperature=0.001)"
   ]
  },
  {
   "cell_type": "code",
   "execution_count": 4,
   "metadata": {},
   "outputs": [
    {
     "data": {
      "text/plain": [
       "<langchain_community.vectorstores.chroma.Chroma at 0x74fed5352ce0>"
      ]
     },
     "execution_count": 4,
     "metadata": {},
     "output_type": "execute_result"
    }
   ],
   "source": [
    "# Persiste vetores no banco de dados local\n",
    "Chroma.from_documents(\n",
    "    documents=chunks,\n",
    "    embedding=embeddings,\n",
    "    persist_directory=\"./data\",\n",
    ")"
   ]
  },
  {
   "cell_type": "code",
   "execution_count": 5,
   "metadata": {},
   "outputs": [
    {
     "name": "stderr",
     "output_type": "stream",
     "text": [
      "/tmp/ipykernel_9753/4145764748.py:1: LangChainDeprecationWarning: The class `Chroma` was deprecated in LangChain 0.2.9 and will be removed in 1.0. An updated version of the class exists in the :class:`~langchain-chroma package and should be used instead. To use it run `pip install -U :class:`~langchain-chroma` and import as `from :class:`~langchain_chroma import Chroma``.\n",
      "  vectorstore = Chroma(persist_directory=\"./data\", embedding_function=embeddings)\n"
     ]
    }
   ],
   "source": [
    "vectorstore = Chroma(persist_directory=\"./data\", embedding_function=embeddings)\n",
    "retriever = vectorstore.as_retriever()"
   ]
  },
  {
   "cell_type": "code",
   "execution_count": 6,
   "metadata": {},
   "outputs": [
    {
     "data": {
      "text/plain": [
       "[Document(metadata={'language': 'en', 'source': 'https://en.wikipedia.org/wiki/Jon_Jones', 'title': 'Jon Jones - Wikipedia'}, page_content='Retrieved from \"https://en.wikipedia.org/w/index.php?title=Jon_Jones&oldid=1259995859\"'),\n",
       " Document(metadata={'language': 'en', 'source': 'https://en.wikipedia.org/wiki/Jon_Jones', 'title': 'Jon Jones - Wikipedia'}, page_content='Early life\\nJones was born on July 19, 1987, in Rochester, New York.[32] His father Arthur is a pastor at Mount Sinai Church of God in Christ in Binghamton, New York.[33] Arthur discouraged Jon\\'s fighting career, \"I wanted him to preach. I tried to discourage him from being a fighter. I told him you don\\'t want to do that. You can do other things. Be a pastor.\"[33] Jon\\'s mother, Camille, died in 2017 at the age of 55, after a long battle with diabetes.[34]\\nJon was one of four children. His older brother, Arthur, is a former American football defensive lineman who played for the Baltimore Ravens, Indianapolis Colts and Washington Redskins, while his younger brother, Chandler, last played as an outside linebacker for the Las Vegas Raiders.[35] His older sister, Carmen, died of a brain tumor before her 18th birthday.[36][37]'),\n",
       " Document(metadata={'language': 'en', 'source': 'https://en.wikipedia.org/wiki/Jon_Jones', 'title': 'Jon Jones - Wikipedia'}, page_content=\"Jon JonesJones in 2014BornJonathan Dwight Jones[1] (1987-07-19) July 19, 1987 (age\\xa037)[2]Rochester, New York, U.S.[3]NicknameBonesResidenceAlbuquerque, New Mexico, U.S.[4]Height6\\xa0ft 4\\xa0in (193\\xa0cm)Weight238\\xa0lb (108\\xa0kg; 17\\xa0st 0\\xa0lb)DivisionLight heavyweight (2008–2020)[5]Heavyweight (2023–present)Reach84\\xa0in (213\\xa0cm)[6]Fighting out ofAlbuquerque, New Mexico, U.S.[3]TeamTeam Bombsquad (2008–2009)[7]Jackson Wink MMA Academy (2009–2021)[2][8][9]Jackson's MMA Acoma (2021–present)[10]Fight Ready (2021–present)[11]RankBlack belt in Gaidojutsu under Greg Jackson[12]Purple belt in Brazilian Jiu-Jitsu under Roberto Alencar[13]WrestlingNJCAA Wrestling[14]Years active2008–present (MMA)Mixed martial arts recordTotal30Wins28By\\xa0knockout11By\\xa0submission7By\\xa0decision10Losses1By\\xa0disqualification1No\\xa0contests1\"),\n",
       " Document(metadata={'language': 'en', 'source': 'https://en.wikipedia.org/wiki/Jon_Jones', 'title': 'Jon Jones - Wikipedia'}, page_content=\"Training\\nJon Jones kicking a punching bag in training.\\nJones has trained with Team BombSquad out of Cortland, New York, then briefly with the Tristar Gym in Montreal, Canada and most recently at Jackson's MMA in Albuquerque, New Mexico.[178] He also trained as a power-lifter during his suspension from the UFC.[179]\")]"
      ]
     },
     "execution_count": 6,
     "metadata": {},
     "output_type": "execute_result"
    }
   ],
   "source": [
    "# Testando o retriever\n",
    "retriever.invoke(\"Where was Jon Jones born?\")"
   ]
  },
  {
   "cell_type": "code",
   "execution_count": 7,
   "metadata": {},
   "outputs": [
    {
     "data": {
      "text/plain": [
       "ChatPromptTemplate(input_variables=['context', 'question'], input_types={}, partial_variables={}, messages=[SystemMessagePromptTemplate(prompt=PromptTemplate(input_variables=['context'], input_types={}, partial_variables={}, template=\"You are a helpful AI assistant that answers the user's question based only on the context below:\\n            <context>\\n                {context}\\n            </context>\\n\\n            Answer the user's questions considering the above context only.\\n            \"), additional_kwargs={}), HumanMessagePromptTemplate(prompt=PromptTemplate(input_variables=['question'], input_types={}, partial_variables={}, template='{question}'), additional_kwargs={})])"
      ]
     },
     "execution_count": 7,
     "metadata": {},
     "output_type": "execute_result"
    }
   ],
   "source": [
    "prompt = ChatPromptTemplate.from_messages(\n",
    "    [\n",
    "        (\n",
    "            \"system\",\n",
    "            \"\"\"You are a helpful AI assistant that answers the user's question based only on the context below:\n",
    "            <context>\n",
    "                {context}\n",
    "            </context>\n",
    "\n",
    "            Answer the user's questions considering the above context only.\n",
    "            \"\"\",\n",
    "        ),\n",
    "        (\"human\", \"{question}\"),\n",
    "    ]\n",
    ")\n",
    "\n",
    "prompt"
   ]
  },
  {
   "cell_type": "code",
   "execution_count": 8,
   "metadata": {},
   "outputs": [],
   "source": [
    "chain = (\n",
    "    {\"question\": RunnablePassthrough(), \"context\": retriever} | prompt | llm | StrOutputParser()\n",
    ")"
   ]
  },
  {
   "cell_type": "code",
   "execution_count": 10,
   "metadata": {},
   "outputs": [
    {
     "name": "stdout",
     "output_type": "stream",
     "text": [
      "According to the provided context, yes, Jon Jones won his fight against Stipe Miocic. He won the bout by technical knockout via a spinning back kick followed by punches in the third round at UFC 309 on November 16, 2024.\n"
     ]
    }
   ],
   "source": [
    "stream = chain.stream(\"Did Jon Jones win the fight against Stepe Miotic?\")\n",
    "\n",
    "for chunk in stream:\n",
    "    print(chunk, end=\"\", flush=True)\n",
    "print()"
   ]
  },
  {
   "cell_type": "code",
   "execution_count": 12,
   "metadata": {},
   "outputs": [
    {
     "name": "stdout",
     "output_type": "stream",
     "text": [
      "messages=[SystemMessage(content='You are a helpful AI assistant that answers the user\\'s question based only on the context below:\\n            <context>\\n                [Document(metadata={\\'language\\': \\'en\\', \\'source\\': \\'https://en.wikipedia.org/wiki/Jon_Jones\\', \\'title\\': \\'Jon Jones - Wikipedia\\'}, page_content=\\'^ \"Jon Jones defeats Dominick Reyes\". mmadecisions.com. February 8, 2020. Archived from the original on May 2, 2021. Retrieved February 9, 2020.\\\\n\\\\n^ \"Jon Jones Sets UFC Record With Win Over Dominick Reyes\". Forbes.com. February 9, 2020. Archived from the original on May 18, 2020. Retrieved February 9, 2020.\\\\n\\\\n^ Bohn, Mike (January 14, 2023). \"Francis Ngannou released; Jon Jones returns, meets Ciryl Gane for newly vacated heavyweight title at UFC 285\". mmajunkie.usatoday.com. Archived from the original on June 2, 2023. Retrieved January 14, 2023.\\\\n\\\\n^ Lelinwalla, Mark (March 5, 2023). \"UFC 285: Jon Jones delivers first-round submission of Ciryl Gane to become heavyweight champ\". DAZN. Archived from the original on March 12, 2023. Retrieved March 5, 2023.\\\\n\\\\n^ Rush, Dylan (March 5, 2023). \"UFC 285: Jon Jones stuns Ciryl Gane in return with quick submission, claims heavyweight crown\". Cageside Press. Archived from the original on June 7, 2023. Retrieved March 5, 2023.\\'), Document(metadata={\\'language\\': \\'en\\', \\'source\\': \\'https://en.wikipedia.org/wiki/Jon_Jones\\', \\'title\\': \\'Jon Jones - Wikipedia\\'}, page_content=\\'Heavyweight Champion\\\\nAfter over three years removed from his last bout, Jones faced Ciryl Gane for the vacant UFC Heavyweight Championship on March 4, 2023, at UFC 285.[169] He won the bout and earned the title via a guillotine choke submission in the first round.[170][171] After the fight, Jones earned the Performance of the Night bonus award.[172]\\\\nJones was scheduled to defend his title against former two-time heavyweight champion Stipe Miocic on November 11, 2023, at UFC 295.[173] However, Jones was forced to pull out due to injury after tearing a pectoral tendon.[174]\\\\nOne year after his injury, the bout between Jones and Miocic was rescheduled to November 16, 2024, at UFC 309.[175] He won the fight by technical knockout via a spinning back kick followed by punches in the third round.[176] This fight earned him another Performance of the Night award.[177]\\'), Document(metadata={\\'language\\': \\'en\\', \\'source\\': \\'https://en.wikipedia.org/wiki/Jon_Jones\\', \\'title\\': \\'Jon Jones - Wikipedia\\'}, page_content=\\'^ \"UFC 235 results: Jon Jones docked two points but cruises to decision win over Anthony Smith\". MMA Junkie. March 3, 2019. Archived from the original on June 16, 2019. Retrieved March 4, 2019.\\\\n\\\\n^ Okamoto, Brett (March 27, 2019). \"Jones-Santos to headline UFC 239\". espn.com. Archived from the original on May 29, 2023. Retrieved March 27, 2019.\\\\n\\\\n^ Hiergesell, Dan (November 22, 2019). \"Jones Vs. Reyes Official For PPV Event In Houston\". mmamania.com. Archived from the original on February 26, 2020. Retrieved November 23, 2019.\\\\n\\\\n^ Evanoff, Josh (February 9, 2020). \"UFC 247 Results: Jon Jones Edges Out Dominick Reyes\". Cageside Press. Archived from the original on May 2, 2021. Retrieved February 9, 2020.\\\\n\\\\n^ \"Jon Jones defeats Dominick Reyes\". mmadecisions.com. February 8, 2020. Archived from the original on May 2, 2021. Retrieved February 9, 2020.\\'), Document(metadata={\\'language\\': \\'en\\', \\'source\\': \\'https://en.wikipedia.org/wiki/Jon_Jones\\', \\'title\\': \\'Jon Jones - Wikipedia\\'}, page_content=\\'Jones and basketball player Glen Davis in 2010\\\\nJones defeated former IFL Light Heavyweight Champion Vladimir Matyushenko by TKO with elbows in 1:52 of the first round on August 1, 2010, at UFC Live: Jones vs. Matyushenko.[60] Dana White promised Jones a \"huge step-up in the competition\", if he managed to defeat Matyushenko.[61] Following the match with Matyushenko, White said, \"Vladimir Matyushenko is a guy who I have a lot of respect for and I didn\\\\\\'t think it was going to happen that easy. Jones is the real deal and he just catapulted himself tonight into the top eight in the world. Tonight solidified it. ... He\\\\\\'s got to keep his head together, stay focused and keep doing all the right things in training. He\\\\\\'s smart, good looking and bad-ass. He\\\\\\'s going to make a lot of money—this kid is going to do very well.\"[62]\\')]\\n            </context>\\n\\n            Answer the user\\'s questions considering the above context only.\\n            ', additional_kwargs={}, response_metadata={}), HumanMessage(content='Did Jon Jones win the fight against Stepe Miotic?', additional_kwargs={}, response_metadata={})]\n",
      "According to the provided context, yes, Jon Jones won his fight against Stipe Miocic. He won the bout by technical knockout via a spinning back kick followed by punches in the third round at UFC 309 on November 16, 2024.\n"
     ]
    }
   ],
   "source": [
    "def prompt_printer(prompt):\n",
    "    print(prompt)\n",
    "\n",
    "    return prompt\n",
    "\n",
    "# Debuggin chain\n",
    "chain = (\n",
    "    {\"question\": RunnablePassthrough(), \"context\": retriever}\n",
    "    | prompt\n",
    "    | prompt_printer\n",
    "    | llm\n",
    "    | StrOutputParser()\n",
    ")\n",
    "\n",
    "answer = chain.invoke(\"Did Jon Jones win the fight against Stepe Miotic?\")\n",
    "print(answer)"
   ]
  }
 ],
 "metadata": {
  "kernelspec": {
   "display_name": "venv",
   "language": "python",
   "name": "python3"
  },
  "language_info": {
   "codemirror_mode": {
    "name": "ipython",
    "version": 3
   },
   "file_extension": ".py",
   "mimetype": "text/x-python",
   "name": "python",
   "nbconvert_exporter": "python",
   "pygments_lexer": "ipython3",
   "version": "3.10.12"
  }
 },
 "nbformat": 4,
 "nbformat_minor": 2
}
