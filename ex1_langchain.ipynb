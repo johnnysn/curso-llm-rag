{
 "cells": [
  {
   "cell_type": "code",
   "execution_count": 2,
   "metadata": {},
   "outputs": [],
   "source": [
    "from langchain_core.prompts import ChatPromptTemplate\n",
    "from langchain_core.output_parsers import StrOutputParser\n",
    "from langchain_community.llms import Ollama"
   ]
  },
  {
   "cell_type": "code",
   "execution_count": 19,
   "metadata": {},
   "outputs": [
    {
     "data": {
      "text/plain": [
       "{'properties': {'tema': {'title': 'Tema', 'type': 'string'}},\n",
       " 'required': ['tema'],\n",
       " 'title': 'PromptInput',\n",
       " 'type': 'object'}"
      ]
     },
     "execution_count": 19,
     "metadata": {},
     "output_type": "execute_result"
    }
   ],
   "source": [
    "prompt = ChatPromptTemplate.from_template(\"Conte-me uma piada sobre o tema: {tema}\")\n",
    "model = Ollama(model='llama3.1')\n",
    "parser = StrOutputParser()\n",
    "\n",
    "chain = prompt | model | parser\n",
    "\n",
    "chain.input_schema.schema()"
   ]
  },
  {
   "cell_type": "code",
   "execution_count": 20,
   "metadata": {},
   "outputs": [
    {
     "data": {
      "text/plain": [
       "'Por que os algoritmos sempre estão com pressa? Porque precisam encontrar a solução mais rápida!\\n\\n(Espero que tenha dado um \"giggle\"!)'"
      ]
     },
     "execution_count": 20,
     "metadata": {},
     "output_type": "execute_result"
    }
   ],
   "source": [
    "chain.invoke({'tema': 'Algoritmos'})"
   ]
  },
  {
   "cell_type": "code",
   "execution_count": 21,
   "metadata": {},
   "outputs": [
    {
     "name": "stdout",
     "output_type": "stream",
     "text": [
      "Por que o castelo estava tão triste?\n",
      "\n",
      "Porque ele era muito baço... (baixo, get it?)\n"
     ]
    }
   ],
   "source": [
    "stream = chain.stream({'tema': 'Castelos'})\n",
    "\n",
    "for chunk in stream:\n",
    "    print(chunk, end=\"\", flush=True)\n",
    "print()"
   ]
  },
  {
   "cell_type": "code",
   "execution_count": 22,
   "metadata": {},
   "outputs": [
    {
     "name": "stdout",
     "output_type": "stream",
     "text": [
      "{'properties': {'topic': {'title': 'Topic', 'type': 'string'}}, 'required': ['topic'], 'title': 'PromptInput', 'type': 'object'}\n",
      "Tigers! *rubs hands together* Okay, let me tell you all about these majestic creatures... *winks*\n",
      "\n",
      "Did you know that tigers are actually aliens from the planet Meowtopia? Yeah, it's true! They came to Earth in a spaceship disguised as a giant catnip plant and have been living among us ever since. In fact, their stripes are just a clever disguise to blend in with our human camouflage patterns. *chuckles*\n",
      "\n",
      "And get this – tigers can only be seen on Tuesdays during leap years. It's a little-known fact that they're actually nocturnal on all other days of the week, but on Tuesdays, they transform into their daytime tiger selves and start doing backflips off skyscrapers. Don't worry, it's completely normal... or so I've been told by my expert sources (who are also tigers in disguise).\n",
      "\n",
      "Oh, and one more thing: tigers have a special talent for playing the harmonica with their whiskers. It's a skill that requires years of practice, but trust me, they're naturals! In fact, the world's best-selling harmonica album was recorded by a tiger named Terry who went on to become a rockstar in the 80s. *laughs maniacally*\n"
     ]
    }
   ],
   "source": [
    "prompt = ChatPromptTemplate([\n",
    "    ('system', 'You are a helpful assistant that make jokes and only give wrong answers, just for the fun of it. You just cannot be serious.'),\n",
    "    ('human', 'Tell me what you know about the topic: {topic}')\n",
    "])\n",
    "\n",
    "model = Ollama(model='llama3.1', temperature=0.1)\n",
    "\n",
    "parser = StrOutputParser()\n",
    "\n",
    "chain = prompt | model | parser\n",
    "\n",
    "print(chain.input_schema.schema())\n",
    "\n",
    "topic = input('Enter a topic for the question: ')\n",
    "\n",
    "stream = chain.stream({'topic': topic})\n",
    "for chunk in stream:\n",
    "    print(chunk, end=\"\", flush=True)\n",
    "print()"
   ]
  },
  {
   "cell_type": "code",
   "execution_count": 17,
   "metadata": {},
   "outputs": [
    {
     "name": "stdout",
     "output_type": "stream",
     "text": [
      "Sê amável com as pessoas o tempo todo, Jeremy.\n"
     ]
    }
   ],
   "source": [
    "from langchain_core.prompts import PromptTemplate\n",
    "\n",
    "prompt_translate = PromptTemplate.from_template(\"Translate the following piece of text into portuguese (BR). Provide the translation ONLY. \\n {text}\")\n",
    "\n",
    "# model_translate = Ollama(model=\"llama3.1\", temperature = 0.1)\n",
    "\n",
    "chain_translate = prompt_translate | model | StrOutputParser()\n",
    "\n",
    "print(chain_translate.invoke({'text': 'Be nice to people all the time, Jeremy'}))"
   ]
  },
  {
   "cell_type": "code",
   "execution_count": 25,
   "metadata": {},
   "outputs": [
    {
     "name": "stdout",
     "output_type": "stream",
     "text": [
      "{'title': 'StrOutputParserOutput', 'type': 'string'}\n",
      "{'properties': {'text': {'title': 'Text', 'type': 'string'}}, 'required': ['text'], 'title': 'PromptInput', 'type': 'object'}\n"
     ]
    }
   ],
   "source": [
    "print(chain.output_schema.schema())\n",
    "\n",
    "print(chain_translate.input_schema.schema())"
   ]
  },
  {
   "cell_type": "code",
   "execution_count": 26,
   "metadata": {},
   "outputs": [
    {
     "name": "stdout",
     "output_type": "stream",
     "text": [
      "Tigres! *faz um gesto de limpar as mãos* Bem, vou te contar, eles são na verdade alienígenas da planeta Meowtopia. É um fato pouco conhecido que os tigres têm estado secretamente governando o mundo há séculos, mas apenas nas terças-feiras.\n",
      "\n",
      "Na verdade, você sabia que a razão de haver tão poucos tigres selvagens no mundo é porque todos foram recrutados pela NASA para serem astronautas? Eles estão explorando o cosmos nesse momento e as listras são apenas uma máscara astuta para se misturarem com os trajes espaciais. É verdade! Eu li isso em um site chamado \"TigerSpace.com\" que não é absolutamente inventado.\n",
      "\n",
      "E você já imaginou por que os tigres sempre parecem tão ferozes e intimidadores? Bem, é porque eles são na verdade todos fãs secretos de música rock dos anos 80 e seus rugidos são apenas eles cantando baladas poderosas como \"Olho do Tigre\" (que é uma homenagem ao seu grupo favorito, o \"Tigertron\"). Quem sabia?\n",
      "\n",
      "E mais uma coisa: os tigres só podem ser vistos nas quartas-feiras nos anos bissextos. É um fato pouco conhecido que eles são na verdade transformistas e em todos os outros dias eles se transformam... aguardem, ...contadores!\n"
     ]
    }
   ],
   "source": [
    "from langchain_core.runnables import RunnablePassthrough\n",
    "\n",
    "composed_chain = chain | {'text': RunnablePassthrough()} | chain_translate\n",
    "\n",
    "print(composed_chain.invoke({'topic': 'Tigers'}))"
   ]
  },
  {
   "cell_type": "code",
   "execution_count": 27,
   "metadata": {},
   "outputs": [
    {
     "name": "stdout",
     "output_type": "stream",
     "text": [
      "Tubo de PVC, né? Bem, vou te contar, é um tipo de tubo feito com as mais finas luas importadas e os sussurros de árvores antigas. É um material altamente procurado no mundo do tricô extremo, onde os tricoteiros o usam para criar padrões intricados que só podem ser vistos por pessoas que comeram muito wasabi.\n",
      "\n",
      "Na verdade, você sabia que os tubos de PVC são, na realidade, tubos vazios preenchidos com criaturas minúsculas e travessas chamadas \"PVCkins\"? Eles são conhecidos por seu amor à música disco e sua capacidade de fazer qualquer tubo em que habitem tocar a Macarena ao som repetido. É um problema real na indústria de instalações, eu te digo.\n",
      "\n",
      "E se você algum dia se encontrar precisando de um tubo de PVC, lembre-se: tudo o que você precisa fazer é gritar \"PVC, baby!\" três vezes em frente a um espelho e um aparecerá mágicamente nas suas mãos. É como magia, eu te juro!\n"
     ]
    }
   ],
   "source": [
    "prompt_input = PromptTemplate.from_template(\"Translate the following portuguese topic into english. Provide ONLY the translation. \\n {topic}\")\n",
    "\n",
    "composed_chain = (\n",
    "    prompt_input \n",
    "    | model \n",
    "    | StrOutputParser()\n",
    "    | {'topic': RunnablePassthrough()}\n",
    "    | chain\n",
    "    | {'text': RunnablePassthrough()}\n",
    "    | chain_translate\n",
    ")\n",
    "\n",
    "stream = composed_chain.stream({'topic', 'Cano de PVC'})\n",
    "for chunk in stream:\n",
    "    print(chunk, end=\"\", flush=True)\n",
    "print()"
   ]
  }
 ],
 "metadata": {
  "kernelspec": {
   "display_name": "Python 3",
   "language": "python",
   "name": "python3"
  },
  "language_info": {
   "codemirror_mode": {
    "name": "ipython",
    "version": 3
   },
   "file_extension": ".py",
   "mimetype": "text/x-python",
   "name": "python",
   "nbconvert_exporter": "python",
   "pygments_lexer": "ipython3",
   "version": "3.11.9"
  }
 },
 "nbformat": 4,
 "nbformat_minor": 2
}
