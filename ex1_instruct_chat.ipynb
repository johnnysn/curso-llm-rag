{
 "cells": [
  {
   "cell_type": "code",
   "execution_count": 35,
   "metadata": {},
   "outputs": [],
   "source": [
    "from langchain_core.output_parsers import StrOutputParser\n",
    "from langchain_ollama.chat_models import ChatOllama"
   ]
  },
  {
   "cell_type": "code",
   "execution_count": 36,
   "metadata": {},
   "outputs": [],
   "source": [
    "model = \"llama3.2e\""
   ]
  },
  {
   "cell_type": "code",
   "execution_count": 38,
   "metadata": {},
   "outputs": [
    {
     "name": "stdout",
     "output_type": "stream",
     "text": [
      "Não.\n"
     ]
    }
   ],
   "source": [
    "instructions = \"\"\"Você é um jurado especialista em comédia. Considere a piada informada pelo usuário.\n",
    "\n",
    "Avalie se a piada informada é engraçada ou não. Se o conteúdo não for uma piada, apenas responda \"Não'.\n",
    "Não adicione explicações ou justificativas, responda apenas com 'Sim' ou 'Não'.\"\"\"\n",
    "\n",
    "llm = ChatOllama(model=model, temperature=0)\n",
    "chain = llm | StrOutputParser()\n",
    "\n",
    "stream = chain.stream([\n",
    "    (\"system\", instructions),\n",
    "])"
   ]
  }
 ],
 "metadata": {
  "kernelspec": {
   "display_name": ".venv",
   "language": "python",
   "name": "python3"
  },
  "language_info": {
   "codemirror_mode": {
    "name": "ipython",
    "version": 3
   },
   "file_extension": ".py",
   "mimetype": "text/x-python",
   "name": "python",
   "nbconvert_exporter": "python",
   "pygments_lexer": "ipython3",
   "version": "3.10.12"
  }
 },
 "nbformat": 4,
 "nbformat_minor": 2
}
